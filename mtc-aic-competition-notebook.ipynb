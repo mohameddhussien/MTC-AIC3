{
 "cells": [
  {
   "cell_type": "code",
   "execution_count": 238,
   "metadata": {
    "trusted": true
   },
   "outputs": [],
   "source": [
    "import os\n",
    "import numpy as np\n",
    "import pandas as pd\n",
    "from scipy.signal import butter, lfilter\n",
    "from mne.channels import make_standard_montage\n",
    "from mne.preprocessing import ICA\n",
    "from mne import create_info\n",
    "from mne.io import RawArray\n",
    "from sklearn.decomposition import FastICA\n",
    "from sklearn.model_selection import train_test_split, cross_val_score\n",
    "from sklearn.preprocessing import StandardScaler\n",
    "from sklearn.discriminant_analysis import LinearDiscriminantAnalysis as LDA\n",
    "from sklearn.pipeline import Pipeline\n",
    "from sklearn.metrics import accuracy_score, f1_score, classification_report, confusion_matrix\n",
    "import matplotlib.pyplot as plt\n",
    "import seaborn as sns\n",
    "from mne.decoding import CSP\n",
    "import math\n",
    "from tqdm import tqdm\n",
    "import torch\n",
    "from typing import Optional\n",
    "from numpy.typing import ArrayLike\n",
    "from torch import Tensor\n",
    "import torch.nn as nn\n",
    "import torch.optim as optim\n",
    "from torch.utils.data import TensorDataset, DataLoader\n",
    "from sklearn.svm import SVC\n",
    "from sklearn.model_selection import GridSearchCV\n",
    "from braindecode.models import EEGNetv4"
   ]
  },
  {
   "cell_type": "code",
   "execution_count": 222,
   "metadata": {
    "trusted": true
   },
   "outputs": [],
   "source": [
    "base_path = './'\n",
    "train_df = pd.read_csv(os.path.join(base_path, 'train.csv'))\n",
    "validation_df = pd.read_csv(os.path.join(base_path, 'validation.csv'))\n",
    "test_df = pd.read_csv(os.path.join(base_path, 'test.csv'))\n",
    "\n",
    "# Function to load a trial's EEG data\n",
    "def load_trial_data(row, base_path='.'):\n",
    "    # Determine dataset type based on ID range\n",
    "    id_num = row['id']\n",
    "    if id_num <= 4800:\n",
    "        dataset = 'train'\n",
    "    elif id_num <= 4900:\n",
    "        dataset = 'validation'\n",
    "    else:\n",
    "        dataset = 'test'\n",
    "\n",
    "    # Construct the path to EEGdata.csv\n",
    "    eeg_path = os.path.join(base_path, row['task'], dataset, str(row['subject_id']), str(row['trial_session']), 'EEGdata.csv')\n",
    "\n",
    "    # Load the entire EEG file\n",
    "    eeg_data = pd.read_csv(eeg_path)\n",
    "\n",
    "    # Calculate indices for the specific trial\n",
    "    trial_num = int(row['trial'])\n",
    "    if row['task'] == 'MI':\n",
    "        samples_per_trial = 2250  # 9 seconds * 250 Hz\n",
    "    else:  # SSVEP\n",
    "        samples_per_trial = 1750  # 7 seconds * 250 Hz\n",
    "\n",
    "    start_idx = (trial_num - 1) * samples_per_trial\n",
    "    end_idx = start_idx + samples_per_trial - 1\n",
    "\n",
    "    # Extract the trial data\n",
    "    trial_data = eeg_data.iloc[start_idx:end_idx+1]\n",
    "    return trial_data"
   ]
  },
  {
   "cell_type": "code",
   "execution_count": 311,
   "metadata": {
    "trusted": true
   },
   "outputs": [],
   "source": [
    "EEG_CHANNELS = ['FZ', 'C3', 'CZ', 'C4', 'PZ', 'PO7', 'OZ', 'PO8']\n",
    "MOTION_CHANNELS = ['AccX', 'AccY', 'AccZ', 'Gyro1', 'Gyro2', 'Gyro3']\n",
    "SAMPLE_RATE = 250\n",
    "BASELINE_THRESHOLD = 0.5\n",
    "BANDPASS = (6, 28)\n",
    "CROP_WINDOW = (1, 8)"
   ]
  },
  {
   "cell_type": "code",
   "execution_count": 315,
   "metadata": {
    "trusted": true
   },
   "outputs": [],
   "source": [
    "# --- Signal Processing ---\n",
    "def butter_bandpass(lowcut, highcut, fs, order=5):\n",
    "    nyq = 0.5 * fs\n",
    "    b, a = butter(order, [lowcut / nyq, highcut / nyq], btype='band')\n",
    "    return b, a\n",
    "\n",
    "def apply_bandpass(data, lowcut, highcut):\n",
    "    b, a = butter_bandpass(lowcut, highcut, SAMPLE_RATE)\n",
    "    return lfilter(b, a, data, axis=0)\n",
    "\n",
    "# --- ICA Cleaning ---\n",
    "def apply_ica(data, ica_model: Optional[ICA]=None) -> ArrayLike:\n",
    "    if ica_model is None:\n",
    "        return data\n",
    "\n",
    "    info = create_info(ch_names=EEG_CHANNELS, sfreq=SAMPLE_RATE, ch_types='eeg')\n",
    "    raw = RawArray(data.T, info)\n",
    "\n",
    "    raw_clean = ica_model.apply(raw.copy())\n",
    "    return raw_clean.get_data().T\n",
    "\n",
    "def fit_global_ica(eeg_trials):\n",
    "    all_data = np.concatenate(eeg_trials, axis=0)  # shape: (total_samples, n_channels)\n",
    "    channels = ['Fz', 'C3', 'Cz', 'C4', 'Pz', 'PO7', 'Oz', 'PO8']\n",
    "    info = create_info(ch_names=channels, sfreq=SAMPLE_RATE, ch_types=\"eeg\")\n",
    "    info.set_montage(make_standard_montage('standard_1020'))\n",
    "    raw = RawArray(all_data.T, info)\n",
    "\n",
    "    ica = ICA(n_components=len(channels), random_state=42, max_iter=\"auto\")\n",
    "    ica.fit(raw)\n",
    "    ica.plot_components()\n",
    "    return ica\n",
    "\n",
    "def crop_data(data):\n",
    "    start_idx = CROP_WINDOW[0] * SAMPLE_RATE\n",
    "    end_idx = CROP_WINDOW[1] * SAMPLE_RATE\n",
    "    return data[math.floor(start_idx):math.floor(end_idx)]\n",
    "\n",
    "def preprocess_trial(trial_df: pd.DataFrame, ica_model=None) -> tuple:\n",
    "    eeg = trial_df[EEG_CHANNELS].values  # (T, C_eeg)\n",
    "    motion = trial_df[MOTION_CHANNELS].values  # (T, C_motion)\n",
    "\n",
    "    eeg = apply_bandpass(eeg, *BANDPASS)\n",
    "\n",
    "    baseline_samples = int(BASELINE_THRESHOLD * SAMPLE_RATE)\n",
    "    eeg_baseline = np.mean(eeg[:baseline_samples], axis=0)\n",
    "    eeg -= eeg_baseline\n",
    "\n",
    "    if ica_model is not None:\n",
    "        channels = ['Fz', 'C3', 'Cz', 'C4', 'Pz', 'PO7', 'Oz', 'PO8']\n",
    "        info = create_info(ch_names=channels, sfreq=SAMPLE_RATE, ch_types=\"eeg\")\n",
    "        raw = RawArray(eeg.T, info)\n",
    "        ica_model.exclude = [1, 4]\n",
    "        raw_clean = ica_model.apply(raw.copy())\n",
    "        eeg = raw_clean.get_data().T\n",
    "\n",
    "    eeg = crop_data(eeg)\n",
    "    motion = crop_data(motion)\n",
    "    \n",
    "    eeg = (eeg - np.mean(eeg, axis=0)) / (np.std(eeg, axis=0) + 1e-6)\n",
    "    motion = (motion - np.mean(motion, axis=0)) / (np.std(motion, axis=0) + 1e-6)\n",
    "\n",
    "    return eeg.T, motion.T"
   ]
  },
  {
   "cell_type": "code",
   "execution_count": 309,
   "metadata": {},
   "outputs": [],
   "source": [
    "def load_training_eeg_trials(df):\n",
    "    eeg_trials = []\n",
    "\n",
    "    for _, row in tqdm(df.iterrows(), total=len(df), desc=\"Loading EEG trials\"):\n",
    "        trial_df = load_trial_data(row)\n",
    "        eeg_trials.append(trial_df[EEG_CHANNELS].values)\n",
    "\n",
    "    return eeg_trials"
   ]
  },
  {
   "cell_type": "code",
   "execution_count": 226,
   "metadata": {},
   "outputs": [
    {
     "name": "stderr",
     "output_type": "stream",
     "text": [
      "Loading EEG trials: 100%|██████████| 2400/2400 [03:39<00:00, 10.95it/s]\n"
     ]
    }
   ],
   "source": [
    "train_eeg_trials = load_training_eeg_trials(train_df[:2400])"
   ]
  },
  {
   "cell_type": "code",
   "execution_count": 252,
   "metadata": {},
   "outputs": [
    {
     "name": "stdout",
     "output_type": "stream",
     "text": [
      "Creating RawArray with float64 data, n_channels=8, n_times=5400000\n",
      "    Range : 0 ... 5399999 =      0.000 ... 21599.996 secs\n",
      "Ready.\n",
      "Fitting ICA to data using 8 channels (please be patient, this may take a while)\n"
     ]
    },
    {
     "name": "stderr",
     "output_type": "stream",
     "text": [
      "C:\\Users\\2024\\AppData\\Local\\Temp\\ipykernel_1300\\3664221466.py:30: RuntimeWarning: The data has not been high-pass filtered. For good ICA performance, it should be high-pass filtered (e.g., with a 1.0 Hz lower bound) before fitting ICA.\n",
      "  ica.fit(raw)\n"
     ]
    },
    {
     "name": "stdout",
     "output_type": "stream",
     "text": [
      "Selecting by number: 8 components\n",
      "Fitting ICA took 64.9s.\n"
     ]
    },
    {
     "data": {
      "image/png": "[encoded data removed]",
      "text/plain": [
       "<MNEFigure size 975x496 with 8 Axes>"
      ]
     },
     "metadata": {},
     "output_type": "display_data"
    }
   ],
   "source": [
    "ica_model = fit_global_ica(train_eeg_trials)"
   ]
  },
  {
   "cell_type": "code",
   "execution_count": 310,
   "metadata": {},
   "outputs": [],
   "source": [
    "def preprocess_data(df, ica_model=None, test_data=False):\n",
    "    X_eeg, X_motion, y = [], [], []\n",
    "\n",
    "    for idx, row in tqdm(df.iterrows(), total=len(df), desc=\"Preprocessing Trials\"):\n",
    "        try:\n",
    "            trial_df = load_trial_data(row)\n",
    "            eeg, motion = preprocess_trial(trial_df, ica_model)\n",
    "\n",
    "            X_eeg.append(eeg)\n",
    "            X_motion.append(motion)\n",
    "\n",
    "            if not test_data:\n",
    "                label = 0 if row[\"label\"] == \"Left\" else 1\n",
    "                y.append(label)\n",
    "\n",
    "        except Exception as e:\n",
    "            print(f\"Trial {idx} skipped due to error: {e}\")\n",
    "\n",
    "    X_eeg = torch.tensor(np.stack(X_eeg), dtype=torch.float32)\n",
    "    X_motion = torch.tensor(np.stack(X_motion), dtype=torch.float32)\n",
    "    y = torch.tensor(np.array(y), dtype=torch.long)\n",
    "\n",
    "    return X_eeg, X_motion, y"
   ]
  },
  {
   "cell_type": "code",
   "execution_count": 313,
   "metadata": {},
   "outputs": [
    {
     "name": "stderr",
     "output_type": "stream",
     "text": [
      "Preprocessing Trials: 100%|██████████| 2400/2400 [03:30<00:00, 11.39it/s]\n"
     ]
    }
   ],
   "source": [
    "X_train_eeg, X_train_motion, y_train = preprocess_data(train_df[:2400])"
   ]
  },
  {
   "cell_type": "code",
   "execution_count": 314,
   "metadata": {},
   "outputs": [
    {
     "name": "stderr",
     "output_type": "stream",
     "text": [
      "Preprocessing Trials:   0%|          | 0/50 [00:00<?, ?it/s]"
     ]
    },
    {
     "name": "stdout",
     "output_type": "stream",
     "text": [
      "Creating RawArray with float64 data, n_channels=8, n_times=2250\n",
      "    Range : 0 ... 2249 =      0.000 ...     8.996 secs\n",
      "Ready.\n",
      "Applying ICA to Raw instance\n",
      "    Transforming to ICA space (8 components)\n",
      "    Zeroing out 2 ICA components\n",
      "    Projecting back using 8 PCA components\n"
     ]
    },
    {
     "name": "stderr",
     "output_type": "stream",
     "text": [
      "Preprocessing Trials:   2%|▏         | 1/50 [00:00<00:07,  6.88it/s]"
     ]
    },
    {
     "name": "stdout",
     "output_type": "stream",
     "text": [
      "Creating RawArray with float64 data, n_channels=8, n_times=2250\n",
      "    Range : 0 ... 2249 =      0.000 ...     8.996 secs\n",
      "Ready.\n",
      "Applying ICA to Raw instance\n",
      "    Transforming to ICA space (8 components)\n",
      "    Zeroing out 2 ICA components\n",
      "    Projecting back using 8 PCA components\n"
     ]
    },
    {
     "name": "stderr",
     "output_type": "stream",
     "text": [
      "Preprocessing Trials:   4%|▍         | 2/50 [00:00<00:06,  7.88it/s]"
     ]
    },
    {
     "name": "stdout",
     "output_type": "stream",
     "text": [
      "Creating RawArray with float64 data, n_channels=8, n_times=2250\n",
      "    Range : 0 ... 2249 =      0.000 ...     8.996 secs\n",
      "Ready.\n",
      "Applying ICA to Raw instance\n",
      "    Transforming to ICA space (8 components)\n",
      "    Zeroing out 2 ICA components\n",
      "    Projecting back using 8 PCA components\n"
     ]
    },
    {
     "name": "stderr",
     "output_type": "stream",
     "text": [
      "Preprocessing Trials:   6%|▌         | 3/50 [00:00<00:05,  8.65it/s]"
     ]
    },
    {
     "name": "stdout",
     "output_type": "stream",
     "text": [
      "Creating RawArray with float64 data, n_channels=8, n_times=2250\n",
      "    Range : 0 ... 2249 =      0.000 ...     8.996 secs\n",
      "Ready.\n",
      "Applying ICA to Raw instance\n",
      "    Transforming to ICA space (8 components)\n",
      "    Zeroing out 2 ICA components\n",
      "    Projecting back using 8 PCA components\n"
     ]
    },
    {
     "name": "stderr",
     "output_type": "stream",
     "text": [
      "Preprocessing Trials:   8%|▊         | 4/50 [00:00<00:06,  6.92it/s]"
     ]
    },
    {
     "name": "stdout",
     "output_type": "stream",
     "text": [
      "Creating RawArray with float64 data, n_channels=8, n_times=2250\n",
      "    Range : 0 ... 2249 =      0.000 ...     8.996 secs\n",
      "Ready.\n",
      "Applying ICA to Raw instance\n",
      "    Transforming to ICA space (8 components)\n",
      "    Zeroing out 2 ICA components\n",
      "    Projecting back using 8 PCA components\n"
     ]
    },
    {
     "name": "stderr",
     "output_type": "stream",
     "text": [
      "Preprocessing Trials:  10%|█         | 5/50 [00:00<00:05,  7.61it/s]"
     ]
    },
    {
     "name": "stdout",
     "output_type": "stream",
     "text": [
      "Creating RawArray with float64 data, n_channels=8, n_times=2250\n",
      "    Range : 0 ... 2249 =      0.000 ...     8.996 secs\n",
      "Ready.\n",
      "Applying ICA to Raw instance\n",
      "    Transforming to ICA space (8 components)\n",
      "    Zeroing out 2 ICA components\n",
      "    Projecting back using 8 PCA components\n"
     ]
    },
    {
     "name": "stderr",
     "output_type": "stream",
     "text": [
      "Preprocessing Trials:  12%|█▏        | 6/50 [00:00<00:06,  7.25it/s]"
     ]
    },
    {
     "name": "stdout",
     "output_type": "stream",
     "text": [
      "Creating RawArray with float64 data, n_channels=8, n_times=2250\n",
      "    Range : 0 ... 2249 =      0.000 ...     8.996 secs\n",
      "Ready.\n",
      "Applying ICA to Raw instance\n",
      "    Transforming to ICA space (8 components)\n",
      "    Zeroing out 2 ICA components\n",
      "    Projecting back using 8 PCA components\n"
     ]
    },
    {
     "name": "stderr",
     "output_type": "stream",
     "text": [
      "Preprocessing Trials:  14%|█▍        | 7/50 [00:00<00:06,  7.00it/s]"
     ]
    },
    {
     "name": "stdout",
     "output_type": "stream",
     "text": [
      "Creating RawArray with float64 data, n_channels=8, n_times=2250\n",
      "    Range : 0 ... 2249 =      0.000 ...     8.996 secs\n",
      "Ready.\n",
      "Applying ICA to Raw instance\n",
      "    Transforming to ICA space (8 components)\n",
      "    Zeroing out 2 ICA components\n",
      "    Projecting back using 8 PCA components\n"
     ]
    },
    {
     "name": "stderr",
     "output_type": "stream",
     "text": [
      "Preprocessing Trials:  16%|█▌        | 8/50 [00:01<00:06,  6.89it/s]"
     ]
    },
    {
     "name": "stdout",
     "output_type": "stream",
     "text": [
      "Creating RawArray with float64 data, n_channels=8, n_times=2250\n",
      "    Range : 0 ... 2249 =      0.000 ...     8.996 secs\n",
      "Ready.\n",
      "Applying ICA to Raw instance\n",
      "    Transforming to ICA space (8 components)\n",
      "    Zeroing out 2 ICA components\n",
      "    Projecting back using 8 PCA components\n"
     ]
    },
    {
     "name": "stderr",
     "output_type": "stream",
     "text": [
      "Preprocessing Trials:  18%|█▊        | 9/50 [00:01<00:06,  6.38it/s]"
     ]
    },
    {
     "name": "stdout",
     "output_type": "stream",
     "text": [
      "Creating RawArray with float64 data, n_channels=8, n_times=2250\n",
      "    Range : 0 ... 2249 =      0.000 ...     8.996 secs\n",
      "Ready.\n",
      "Applying ICA to Raw instance\n",
      "    Transforming to ICA space (8 components)\n",
      "    Zeroing out 2 ICA components\n",
      "    Projecting back using 8 PCA components\n"
     ]
    },
    {
     "name": "stderr",
     "output_type": "stream",
     "text": [
      "Preprocessing Trials:  20%|██        | 10/50 [00:01<00:06,  6.25it/s]"
     ]
    },
    {
     "name": "stdout",
     "output_type": "stream",
     "text": [
      "Creating RawArray with float64 data, n_channels=8, n_times=2250\n",
      "    Range : 0 ... 2249 =      0.000 ...     8.996 secs\n",
      "Ready.\n",
      "Applying ICA to Raw instance\n",
      "    Transforming to ICA space (8 components)\n",
      "    Zeroing out 2 ICA components\n",
      "    Projecting back using 8 PCA components\n"
     ]
    },
    {
     "name": "stderr",
     "output_type": "stream",
     "text": [
      "Preprocessing Trials:  22%|██▏       | 11/50 [00:01<00:06,  6.14it/s]"
     ]
    },
    {
     "name": "stdout",
     "output_type": "stream",
     "text": [
      "Creating RawArray with float64 data, n_channels=8, n_times=2250\n",
      "    Range : 0 ... 2249 =      0.000 ...     8.996 secs\n",
      "Ready.\n",
      "Applying ICA to Raw instance\n",
      "    Transforming to ICA space (8 components)\n",
      "    Zeroing out 2 ICA components\n",
      "    Projecting back using 8 PCA components\n"
     ]
    },
    {
     "name": "stderr",
     "output_type": "stream",
     "text": [
      "Preprocessing Trials:  24%|██▍       | 12/50 [00:01<00:05,  6.51it/s]"
     ]
    },
    {
     "name": "stdout",
     "output_type": "stream",
     "text": [
      "Creating RawArray with float64 data, n_channels=8, n_times=2250\n",
      "    Range : 0 ... 2249 =      0.000 ...     8.996 secs\n",
      "Ready.\n",
      "Applying ICA to Raw instance\n",
      "    Transforming to ICA space (8 components)\n",
      "    Zeroing out 2 ICA components\n",
      "    Projecting back using 8 PCA components\n"
     ]
    },
    {
     "name": "stderr",
     "output_type": "stream",
     "text": [
      "Preprocessing Trials:  26%|██▌       | 13/50 [00:01<00:05,  7.09it/s]"
     ]
    },
    {
     "name": "stdout",
     "output_type": "stream",
     "text": [
      "Creating RawArray with float64 data, n_channels=8, n_times=2250\n",
      "    Range : 0 ... 2249 =      0.000 ...     8.996 secs\n",
      "Ready.\n",
      "Applying ICA to Raw instance\n",
      "    Transforming to ICA space (8 components)\n",
      "    Zeroing out 2 ICA components\n",
      "    Projecting back using 8 PCA components\n"
     ]
    },
    {
     "name": "stderr",
     "output_type": "stream",
     "text": [
      "Preprocessing Trials:  28%|██▊       | 14/50 [00:01<00:04,  7.41it/s]"
     ]
    },
    {
     "name": "stdout",
     "output_type": "stream",
     "text": [
      "Creating RawArray with float64 data, n_channels=8, n_times=2250\n",
      "    Range : 0 ... 2249 =      0.000 ...     8.996 secs\n",
      "Ready.\n",
      "Applying ICA to Raw instance\n",
      "    Transforming to ICA space (8 components)\n",
      "    Zeroing out 2 ICA components\n",
      "    Projecting back using 8 PCA components\n"
     ]
    },
    {
     "name": "stderr",
     "output_type": "stream",
     "text": [
      "Preprocessing Trials:  30%|███       | 15/50 [00:02<00:04,  7.49it/s]"
     ]
    },
    {
     "name": "stdout",
     "output_type": "stream",
     "text": [
      "Creating RawArray with float64 data, n_channels=8, n_times=2250\n",
      "    Range : 0 ... 2249 =      0.000 ...     8.996 secs\n",
      "Ready.\n",
      "Applying ICA to Raw instance\n",
      "    Transforming to ICA space (8 components)\n",
      "    Zeroing out 2 ICA components\n",
      "    Projecting back using 8 PCA components\n"
     ]
    },
    {
     "name": "stderr",
     "output_type": "stream",
     "text": [
      "Preprocessing Trials:  32%|███▏      | 16/50 [00:02<00:04,  7.52it/s]"
     ]
    },
    {
     "name": "stdout",
     "output_type": "stream",
     "text": [
      "Creating RawArray with float64 data, n_channels=8, n_times=2250\n",
      "    Range : 0 ... 2249 =      0.000 ...     8.996 secs\n",
      "Ready.\n",
      "Applying ICA to Raw instance\n",
      "    Transforming to ICA space (8 components)\n",
      "    Zeroing out 2 ICA components\n",
      "    Projecting back using 8 PCA components\n"
     ]
    },
    {
     "name": "stderr",
     "output_type": "stream",
     "text": [
      "Preprocessing Trials:  34%|███▍      | 17/50 [00:02<00:04,  7.82it/s]"
     ]
    },
    {
     "name": "stdout",
     "output_type": "stream",
     "text": [
      "Creating RawArray with float64 data, n_channels=8, n_times=2250\n",
      "    Range : 0 ... 2249 =      0.000 ...     8.996 secs\n",
      "Ready.\n",
      "Applying ICA to Raw instance\n",
      "    Transforming to ICA space (8 components)\n",
      "    Zeroing out 2 ICA components\n",
      "    Projecting back using 8 PCA components\n"
     ]
    },
    {
     "name": "stderr",
     "output_type": "stream",
     "text": [
      "Preprocessing Trials:  36%|███▌      | 18/50 [00:02<00:04,  7.94it/s]"
     ]
    },
    {
     "name": "stdout",
     "output_type": "stream",
     "text": [
      "Creating RawArray with float64 data, n_channels=8, n_times=2250\n",
      "    Range : 0 ... 2249 =      0.000 ...     8.996 secs\n",
      "Ready.\n",
      "Applying ICA to Raw instance\n",
      "    Transforming to ICA space (8 components)\n",
      "    Zeroing out 2 ICA components\n",
      "    Projecting back using 8 PCA components\n"
     ]
    },
    {
     "name": "stderr",
     "output_type": "stream",
     "text": [
      "Preprocessing Trials:  38%|███▊      | 19/50 [00:02<00:03,  7.82it/s]"
     ]
    },
    {
     "name": "stdout",
     "output_type": "stream",
     "text": [
      "Creating RawArray with float64 data, n_channels=8, n_times=2250\n",
      "    Range : 0 ... 2249 =      0.000 ...     8.996 secs\n",
      "Ready.\n",
      "Applying ICA to Raw instance\n",
      "    Transforming to ICA space (8 components)\n",
      "    Zeroing out 2 ICA components\n",
      "    Projecting back using 8 PCA components\n"
     ]
    },
    {
     "name": "stderr",
     "output_type": "stream",
     "text": [
      "Preprocessing Trials:  40%|████      | 20/50 [00:02<00:03,  7.76it/s]"
     ]
    },
    {
     "name": "stdout",
     "output_type": "stream",
     "text": [
      "Creating RawArray with float64 data, n_channels=8, n_times=2250\n",
      "    Range : 0 ... 2249 =      0.000 ...     8.996 secs\n",
      "Ready.\n",
      "Applying ICA to Raw instance\n",
      "    Transforming to ICA space (8 components)\n",
      "    Zeroing out 2 ICA components\n",
      "    Projecting back using 8 PCA components\n"
     ]
    },
    {
     "name": "stderr",
     "output_type": "stream",
     "text": [
      "Preprocessing Trials:  42%|████▏     | 21/50 [00:02<00:04,  7.12it/s]"
     ]
    },
    {
     "name": "stdout",
     "output_type": "stream",
     "text": [
      "Creating RawArray with float64 data, n_channels=8, n_times=2250\n",
      "    Range : 0 ... 2249 =      0.000 ...     8.996 secs\n",
      "Ready.\n",
      "Applying ICA to Raw instance\n",
      "    Transforming to ICA space (8 components)\n",
      "    Zeroing out 2 ICA components\n",
      "    Projecting back using 8 PCA components\n"
     ]
    },
    {
     "name": "stderr",
     "output_type": "stream",
     "text": [
      "Preprocessing Trials:  44%|████▍     | 22/50 [00:03<00:04,  6.77it/s]"
     ]
    },
    {
     "name": "stdout",
     "output_type": "stream",
     "text": [
      "Creating RawArray with float64 data, n_channels=8, n_times=2250\n",
      "    Range : 0 ... 2249 =      0.000 ...     8.996 secs\n",
      "Ready.\n",
      "Applying ICA to Raw instance\n",
      "    Transforming to ICA space (8 components)\n",
      "    Zeroing out 2 ICA components\n",
      "    Projecting back using 8 PCA components\n"
     ]
    },
    {
     "name": "stderr",
     "output_type": "stream",
     "text": [
      "Preprocessing Trials:  46%|████▌     | 23/50 [00:03<00:04,  6.63it/s]"
     ]
    },
    {
     "name": "stdout",
     "output_type": "stream",
     "text": [
      "Creating RawArray with float64 data, n_channels=8, n_times=2250\n",
      "    Range : 0 ... 2249 =      0.000 ...     8.996 secs\n",
      "Ready.\n",
      "Applying ICA to Raw instance\n",
      "    Transforming to ICA space (8 components)\n",
      "    Zeroing out 2 ICA components\n",
      "    Projecting back using 8 PCA components\n"
     ]
    },
    {
     "name": "stderr",
     "output_type": "stream",
     "text": [
      "Preprocessing Trials:  48%|████▊     | 24/50 [00:03<00:04,  6.23it/s]"
     ]
    },
    {
     "name": "stdout",
     "output_type": "stream",
     "text": [
      "Creating RawArray with float64 data, n_channels=8, n_times=2250\n",
      "    Range : 0 ... 2249 =      0.000 ...     8.996 secs\n",
      "Ready.\n",
      "Applying ICA to Raw instance\n",
      "    Transforming to ICA space (8 components)\n",
      "    Zeroing out 2 ICA components\n",
      "    Projecting back using 8 PCA components\n"
     ]
    },
    {
     "name": "stderr",
     "output_type": "stream",
     "text": [
      "Preprocessing Trials:  50%|█████     | 25/50 [00:03<00:03,  6.44it/s]"
     ]
    },
    {
     "name": "stdout",
     "output_type": "stream",
     "text": [
      "Creating RawArray with float64 data, n_channels=8, n_times=2250\n",
      "    Range : 0 ... 2249 =      0.000 ...     8.996 secs\n",
      "Ready.\n",
      "Applying ICA to Raw instance\n",
      "    Transforming to ICA space (8 components)\n",
      "    Zeroing out 2 ICA components\n",
      "    Projecting back using 8 PCA components\n"
     ]
    },
    {
     "name": "stderr",
     "output_type": "stream",
     "text": [
      "Preprocessing Trials:  52%|█████▏    | 26/50 [00:03<00:03,  7.10it/s]"
     ]
    },
    {
     "name": "stdout",
     "output_type": "stream",
     "text": [
      "Creating RawArray with float64 data, n_channels=8, n_times=2250\n",
      "    Range : 0 ... 2249 =      0.000 ...     8.996 secs\n",
      "Ready.\n",
      "Applying ICA to Raw instance\n",
      "    Transforming to ICA space (8 components)\n",
      "    Zeroing out 2 ICA components\n",
      "    Projecting back using 8 PCA components\n"
     ]
    },
    {
     "name": "stderr",
     "output_type": "stream",
     "text": [
      "Preprocessing Trials:  54%|█████▍    | 27/50 [00:03<00:03,  7.51it/s]"
     ]
    },
    {
     "name": "stdout",
     "output_type": "stream",
     "text": [
      "Creating RawArray with float64 data, n_channels=8, n_times=2250\n",
      "    Range : 0 ... 2249 =      0.000 ...     8.996 secs\n",
      "Ready.\n",
      "Applying ICA to Raw instance\n",
      "    Transforming to ICA space (8 components)\n",
      "    Zeroing out 2 ICA components\n",
      "    Projecting back using 8 PCA components\n"
     ]
    },
    {
     "name": "stderr",
     "output_type": "stream",
     "text": [
      "Preprocessing Trials:  56%|█████▌    | 28/50 [00:03<00:02,  8.10it/s]"
     ]
    },
    {
     "name": "stdout",
     "output_type": "stream",
     "text": [
      "Creating RawArray with float64 data, n_channels=8, n_times=2250\n",
      "    Range : 0 ... 2249 =      0.000 ...     8.996 secs\n",
      "Ready.\n",
      "Applying ICA to Raw instance\n",
      "    Transforming to ICA space (8 components)\n",
      "    Zeroing out 2 ICA components\n",
      "    Projecting back using 8 PCA components\n"
     ]
    },
    {
     "name": "stderr",
     "output_type": "stream",
     "text": [
      "Preprocessing Trials:  58%|█████▊    | 29/50 [00:03<00:02,  8.59it/s]"
     ]
    },
    {
     "name": "stdout",
     "output_type": "stream",
     "text": [
      "Creating RawArray with float64 data, n_channels=8, n_times=2250\n",
      "    Range : 0 ... 2249 =      0.000 ...     8.996 secs\n",
      "Ready.\n",
      "Applying ICA to Raw instance\n",
      "    Transforming to ICA space (8 components)\n",
      "    Zeroing out 2 ICA components\n",
      "    Projecting back using 8 PCA components\n"
     ]
    },
    {
     "name": "stderr",
     "output_type": "stream",
     "text": [
      "Preprocessing Trials:  60%|██████    | 30/50 [00:04<00:02,  8.42it/s]"
     ]
    },
    {
     "name": "stdout",
     "output_type": "stream",
     "text": [
      "Creating RawArray with float64 data, n_channels=8, n_times=2250\n",
      "    Range : 0 ... 2249 =      0.000 ...     8.996 secs\n",
      "Ready.\n",
      "Applying ICA to Raw instance\n",
      "    Transforming to ICA space (8 components)\n",
      "    Zeroing out 2 ICA components\n",
      "    Projecting back using 8 PCA components\n"
     ]
    },
    {
     "name": "stderr",
     "output_type": "stream",
     "text": [
      "Preprocessing Trials:  62%|██████▏   | 31/50 [00:04<00:02,  7.72it/s]"
     ]
    },
    {
     "name": "stdout",
     "output_type": "stream",
     "text": [
      "Creating RawArray with float64 data, n_channels=8, n_times=2250\n",
      "    Range : 0 ... 2249 =      0.000 ...     8.996 secs\n",
      "Ready.\n",
      "Applying ICA to Raw instance\n",
      "    Transforming to ICA space (8 components)\n",
      "    Zeroing out 2 ICA components\n",
      "    Projecting back using 8 PCA components\n"
     ]
    },
    {
     "name": "stderr",
     "output_type": "stream",
     "text": [
      "Preprocessing Trials:  64%|██████▍   | 32/50 [00:04<00:02,  7.86it/s]"
     ]
    },
    {
     "name": "stdout",
     "output_type": "stream",
     "text": [
      "Creating RawArray with float64 data, n_channels=8, n_times=2250\n",
      "    Range : 0 ... 2249 =      0.000 ...     8.996 secs\n",
      "Ready.\n",
      "Applying ICA to Raw instance\n",
      "    Transforming to ICA space (8 components)\n",
      "    Zeroing out 2 ICA components\n",
      "    Projecting back using 8 PCA components\n"
     ]
    },
    {
     "name": "stderr",
     "output_type": "stream",
     "text": [
      "Preprocessing Trials:  66%|██████▌   | 33/50 [00:04<00:02,  7.93it/s]"
     ]
    },
    {
     "name": "stdout",
     "output_type": "stream",
     "text": [
      "Creating RawArray with float64 data, n_channels=8, n_times=2250\n",
      "    Range : 0 ... 2249 =      0.000 ...     8.996 secs\n",
      "Ready.\n",
      "Applying ICA to Raw instance\n",
      "    Transforming to ICA space (8 components)\n",
      "    Zeroing out 2 ICA components\n",
      "    Projecting back using 8 PCA components\n"
     ]
    },
    {
     "name": "stderr",
     "output_type": "stream",
     "text": [
      "Preprocessing Trials:  68%|██████▊   | 34/50 [00:04<00:02,  7.89it/s]"
     ]
    },
    {
     "name": "stdout",
     "output_type": "stream",
     "text": [
      "Creating RawArray with float64 data, n_channels=8, n_times=2250\n",
      "    Range : 0 ... 2249 =      0.000 ...     8.996 secs\n",
      "Ready.\n",
      "Applying ICA to Raw instance\n",
      "    Transforming to ICA space (8 components)\n",
      "    Zeroing out 2 ICA components\n",
      "    Projecting back using 8 PCA components\n"
     ]
    },
    {
     "name": "stderr",
     "output_type": "stream",
     "text": [
      "Preprocessing Trials:  70%|███████   | 35/50 [00:04<00:01,  7.93it/s]"
     ]
    },
    {
     "name": "stdout",
     "output_type": "stream",
     "text": [
      "Creating RawArray with float64 data, n_channels=8, n_times=2250\n",
      "    Range : 0 ... 2249 =      0.000 ...     8.996 secs\n",
      "Ready.\n",
      "Applying ICA to Raw instance\n",
      "    Transforming to ICA space (8 components)\n",
      "    Zeroing out 2 ICA components\n",
      "    Projecting back using 8 PCA components\n"
     ]
    },
    {
     "name": "stderr",
     "output_type": "stream",
     "text": [
      "Preprocessing Trials:  72%|███████▏  | 36/50 [00:04<00:01,  7.72it/s]"
     ]
    },
    {
     "name": "stdout",
     "output_type": "stream",
     "text": [
      "Creating RawArray with float64 data, n_channels=8, n_times=2250\n",
      "    Range : 0 ... 2249 =      0.000 ...     8.996 secs\n",
      "Ready.\n",
      "Applying ICA to Raw instance\n",
      "    Transforming to ICA space (8 components)\n",
      "    Zeroing out 2 ICA components\n",
      "    Projecting back using 8 PCA components\n"
     ]
    },
    {
     "name": "stderr",
     "output_type": "stream",
     "text": [
      "Preprocessing Trials:  74%|███████▍  | 37/50 [00:05<00:01,  7.16it/s]"
     ]
    },
    {
     "name": "stdout",
     "output_type": "stream",
     "text": [
      "Creating RawArray with float64 data, n_channels=8, n_times=2250\n",
      "    Range : 0 ... 2249 =      0.000 ...     8.996 secs\n",
      "Ready.\n",
      "Applying ICA to Raw instance\n",
      "    Transforming to ICA space (8 components)\n",
      "    Zeroing out 2 ICA components\n",
      "    Projecting back using 8 PCA components\n"
     ]
    },
    {
     "name": "stderr",
     "output_type": "stream",
     "text": [
      "Preprocessing Trials:  76%|███████▌  | 38/50 [00:05<00:01,  7.19it/s]"
     ]
    },
    {
     "name": "stdout",
     "output_type": "stream",
     "text": [
      "Creating RawArray with float64 data, n_channels=8, n_times=2250\n",
      "    Range : 0 ... 2249 =      0.000 ...     8.996 secs\n",
      "Ready.\n",
      "Applying ICA to Raw instance\n",
      "    Transforming to ICA space (8 components)\n",
      "    Zeroing out 2 ICA components\n",
      "    Projecting back using 8 PCA components\n"
     ]
    },
    {
     "name": "stderr",
     "output_type": "stream",
     "text": [
      "Preprocessing Trials:  78%|███████▊  | 39/50 [00:05<00:01,  7.56it/s]"
     ]
    },
    {
     "name": "stdout",
     "output_type": "stream",
     "text": [
      "Creating RawArray with float64 data, n_channels=8, n_times=2250\n",
      "    Range : 0 ... 2249 =      0.000 ...     8.996 secs\n",
      "Ready.\n",
      "Applying ICA to Raw instance\n",
      "    Transforming to ICA space (8 components)\n",
      "    Zeroing out 2 ICA components\n",
      "    Projecting back using 8 PCA components\n"
     ]
    },
    {
     "name": "stderr",
     "output_type": "stream",
     "text": [
      "Preprocessing Trials:  80%|████████  | 40/50 [00:05<00:01,  7.82it/s]"
     ]
    },
    {
     "name": "stdout",
     "output_type": "stream",
     "text": [
      "Creating RawArray with float64 data, n_channels=8, n_times=2250\n",
      "    Range : 0 ... 2249 =      0.000 ...     8.996 secs\n",
      "Ready.\n",
      "Applying ICA to Raw instance\n",
      "    Transforming to ICA space (8 components)\n",
      "    Zeroing out 2 ICA components\n",
      "    Projecting back using 8 PCA components\n"
     ]
    },
    {
     "name": "stderr",
     "output_type": "stream",
     "text": [
      "Preprocessing Trials:  82%|████████▏ | 41/50 [00:05<00:01,  7.78it/s]"
     ]
    },
    {
     "name": "stdout",
     "output_type": "stream",
     "text": [
      "Creating RawArray with float64 data, n_channels=8, n_times=2250\n",
      "    Range : 0 ... 2249 =      0.000 ...     8.996 secs\n",
      "Ready.\n",
      "Applying ICA to Raw instance\n",
      "    Transforming to ICA space (8 components)\n",
      "    Zeroing out 2 ICA components\n",
      "    Projecting back using 8 PCA components\n"
     ]
    },
    {
     "name": "stderr",
     "output_type": "stream",
     "text": [
      "Preprocessing Trials:  84%|████████▍ | 42/50 [00:05<00:01,  7.97it/s]"
     ]
    },
    {
     "name": "stdout",
     "output_type": "stream",
     "text": [
      "Creating RawArray with float64 data, n_channels=8, n_times=2250\n",
      "    Range : 0 ... 2249 =      0.000 ...     8.996 secs\n",
      "Ready.\n",
      "Applying ICA to Raw instance\n",
      "    Transforming to ICA space (8 components)\n",
      "    Zeroing out 2 ICA components\n",
      "    Projecting back using 8 PCA components\n"
     ]
    },
    {
     "name": "stderr",
     "output_type": "stream",
     "text": [
      "Preprocessing Trials:  86%|████████▌ | 43/50 [00:05<00:00,  7.26it/s]"
     ]
    },
    {
     "name": "stdout",
     "output_type": "stream",
     "text": [
      "Creating RawArray with float64 data, n_channels=8, n_times=2250\n",
      "    Range : 0 ... 2249 =      0.000 ...     8.996 secs\n",
      "Ready.\n",
      "Applying ICA to Raw instance\n",
      "    Transforming to ICA space (8 components)\n",
      "    Zeroing out 2 ICA components\n",
      "    Projecting back using 8 PCA components\n"
     ]
    },
    {
     "name": "stderr",
     "output_type": "stream",
     "text": [
      "Preprocessing Trials:  88%|████████▊ | 44/50 [00:06<00:00,  6.55it/s]"
     ]
    },
    {
     "name": "stdout",
     "output_type": "stream",
     "text": [
      "Creating RawArray with float64 data, n_channels=8, n_times=2250\n",
      "    Range : 0 ... 2249 =      0.000 ...     8.996 secs\n",
      "Ready.\n",
      "Applying ICA to Raw instance\n",
      "    Transforming to ICA space (8 components)\n",
      "    Zeroing out 2 ICA components\n",
      "    Projecting back using 8 PCA components\n"
     ]
    },
    {
     "name": "stderr",
     "output_type": "stream",
     "text": [
      "Preprocessing Trials:  90%|█████████ | 45/50 [00:06<00:00,  6.04it/s]"
     ]
    },
    {
     "name": "stdout",
     "output_type": "stream",
     "text": [
      "Creating RawArray with float64 data, n_channels=8, n_times=2250\n",
      "    Range : 0 ... 2249 =      0.000 ...     8.996 secs\n",
      "Ready.\n",
      "Applying ICA to Raw instance\n",
      "    Transforming to ICA space (8 components)\n",
      "    Zeroing out 2 ICA components\n",
      "    Projecting back using 8 PCA components\n"
     ]
    },
    {
     "name": "stderr",
     "output_type": "stream",
     "text": [
      "Preprocessing Trials:  92%|█████████▏| 46/50 [00:06<00:00,  6.40it/s]"
     ]
    },
    {
     "name": "stdout",
     "output_type": "stream",
     "text": [
      "Creating RawArray with float64 data, n_channels=8, n_times=2250\n",
      "    Range : 0 ... 2249 =      0.000 ...     8.996 secs\n",
      "Ready.\n",
      "Applying ICA to Raw instance\n",
      "    Transforming to ICA space (8 components)\n",
      "    Zeroing out 2 ICA components\n",
      "    Projecting back using 8 PCA components\n"
     ]
    },
    {
     "name": "stderr",
     "output_type": "stream",
     "text": [
      "Preprocessing Trials:  94%|█████████▍| 47/50 [00:06<00:00,  6.36it/s]"
     ]
    },
    {
     "name": "stdout",
     "output_type": "stream",
     "text": [
      "Creating RawArray with float64 data, n_channels=8, n_times=2250\n",
      "    Range : 0 ... 2249 =      0.000 ...     8.996 secs\n",
      "Ready.\n",
      "Applying ICA to Raw instance\n",
      "    Transforming to ICA space (8 components)\n",
      "    Zeroing out 2 ICA components\n",
      "    Projecting back using 8 PCA components\n"
     ]
    },
    {
     "name": "stderr",
     "output_type": "stream",
     "text": [
      "Preprocessing Trials:  96%|█████████▌| 48/50 [00:06<00:00,  6.64it/s]"
     ]
    },
    {
     "name": "stdout",
     "output_type": "stream",
     "text": [
      "Creating RawArray with float64 data, n_channels=8, n_times=2250\n",
      "    Range : 0 ... 2249 =      0.000 ...     8.996 secs\n",
      "Ready.\n",
      "Applying ICA to Raw instance\n",
      "    Transforming to ICA space (8 components)\n",
      "    Zeroing out 2 ICA components\n",
      "    Projecting back using 8 PCA components\n"
     ]
    },
    {
     "name": "stderr",
     "output_type": "stream",
     "text": [
      "Preprocessing Trials:  98%|█████████▊| 49/50 [00:06<00:00,  6.43it/s]"
     ]
    },
    {
     "name": "stdout",
     "output_type": "stream",
     "text": [
      "Creating RawArray with float64 data, n_channels=8, n_times=2250\n",
      "    Range : 0 ... 2249 =      0.000 ...     8.996 secs\n",
      "Ready.\n",
      "Applying ICA to Raw instance\n",
      "    Transforming to ICA space (8 components)\n",
      "    Zeroing out 2 ICA components\n",
      "    Projecting back using 8 PCA components\n"
     ]
    },
    {
     "name": "stderr",
     "output_type": "stream",
     "text": [
      "Preprocessing Trials: 100%|██████████| 50/50 [00:07<00:00,  7.12it/s]\n"
     ]
    }
   ],
   "source": [
    "X_val_eeg, X_val_motion, y_val = preprocess_data(validation_df[:50], ica_model)"
   ]
  },
  {
   "cell_type": "code",
   "execution_count": 316,
   "metadata": {},
   "outputs": [],
   "source": [
    "X_full_eeg = torch.cat([X_train_eeg, X_val_eeg], dim=0)\n",
    "X_full_motion = torch.cat([X_train_motion, X_val_motion], dim=0)\n",
    "y_full = torch.cat([y_train, y_val], dim=0)"
   ]
  },
  {
   "cell_type": "code",
   "execution_count": 317,
   "metadata": {
    "trusted": true
   },
   "outputs": [],
   "source": [
    "# def extract_csp_features(X_list, y_list, n_components=4, for_deep_learning=False):\n",
    "#     X = np.array(X_list)  # shape: (n_trials, n_channels, n_samples)\n",
    "#     y = np.array(y_list)\n",
    "\n",
    "#     if for_deep_learning:\n",
    "#         csp = CSP(n_components, transform_into='csp_space')\n",
    "#     else:\n",
    "#         csp = CSP(n_components, transform_into='average_power', log=True)\n",
    "\n",
    "#     X_csp = csp.fit_transform(X, y)\n",
    "#     return X_csp, csp"
   ]
  },
  {
   "cell_type": "code",
   "execution_count": 318,
   "metadata": {
    "trusted": true
   },
   "outputs": [],
   "source": [
    "# def compare_eeg_preprocessing(original_df: pd.DataFrame, processed_df: pd.DataFrame, channels=None, sample_rate=250, seconds=5):\n",
    "#     \"\"\"\n",
    "#     Plot original vs preprocessed EEG signals for selected channels and duration.\n",
    "#     \"\"\"\n",
    "#     if channels is None:\n",
    "#         channels = ['C3', 'CZ', 'C4']\n",
    "\n",
    "#     n_samples = sample_rate * seconds\n",
    "#     time = np.arange(n_samples) / sample_rate\n",
    "\n",
    "#     fig, axs = plt.subplots(len(channels), 1, figsize=(12, 2.5 * len(channels)), sharex=True)\n",
    "\n",
    "#     for idx, ch in enumerate(channels):\n",
    "#         axs[idx].plot(time, original_df[ch][:n_samples], label='Original', alpha=0.7)\n",
    "#         axs[idx].plot(time, processed_df[ch][:n_samples], label='Preprocessed', alpha=0.7)\n",
    "#         axs[idx].set_title(f\"Channel: {ch}\")\n",
    "#         axs[idx].legend(loc='upper right')\n",
    "#         axs[idx].set_ylabel('Amplitude (μV)')\n",
    "\n",
    "#     axs[-1].set_xlabel('Time (s)')\n",
    "#     plt.tight_layout()\n",
    "#     plt.suptitle(\"EEG Signal Before vs After Preprocessing\", fontsize=16, y=1.02)\n",
    "#     plt.show()"
   ]
  },
  {
   "cell_type": "code",
   "execution_count": 319,
   "metadata": {
    "trusted": true
   },
   "outputs": [],
   "source": [
    "# trial_data = load_trial_data(train_df.iloc[0], base_path)\n",
    "# preprocessed = preprocess_trial(trial_data)\n",
    "# compare_eeg_preprocessing(normalize_for_plot(trial_data), preprocessed)"
   ]
  },
  {
   "cell_type": "code",
   "execution_count": 482,
   "metadata": {},
   "outputs": [],
   "source": [
    "class EEGMotionNet(nn.Module):\n",
    "    def __init__(self, in_chans_eeg, in_chans_motion, input_window_samples, n_classes):\n",
    "        super().__init__()\n",
    "\n",
    "        self.spatial_dropout = nn.Dropout1d(p=0.2)\n",
    "\n",
    "        self.eeg_net = EEGNetv4(\n",
    "            n_chans=in_chans_eeg,\n",
    "            n_times=input_window_samples,\n",
    "            n_outputs=n_classes\n",
    "        )\n",
    "\n",
    "        # self.motion_net = nn.Sequential(\n",
    "        #     nn.Conv1d(in_chans_motion, 16, kernel_size=5, stride=2),\n",
    "        #     nn.ReLU(),\n",
    "        #     nn.AdaptiveAvgPool1d(1),\n",
    "        #     nn.Flatten()\n",
    "        # )\n",
    "\n",
    "        # self.fusion = nn.Sequential(\n",
    "        #     nn.Linear(n_classes + 16, 64),\n",
    "        #     nn.ReLU(),\n",
    "        #     nn.Dropout(0.4),\n",
    "        #     nn.Linear(64, n_classes)\n",
    "        # )\n",
    "\n",
    "    def forward(self, x_eeg, x_motion):\n",
    "        x_eeg = self.spatial_dropout(x_eeg)\n",
    "        eeg_out = self.eeg_net(x_eeg)\n",
    "        # motion_out = self.motion_net(x_motion)\n",
    "        # fused = torch.cat([eeg_out, motion_out], dim=1)\n",
    "        return eeg_out\n",
    "        # self.fusion(fused)\n"
   ]
  },
  {
   "cell_type": "code",
   "execution_count": 483,
   "metadata": {
    "trusted": true
   },
   "outputs": [],
   "source": [
    "window_samples = math.floor((CROP_WINDOW[1] - CROP_WINDOW[0]) * SAMPLE_RATE)\n",
    "model = EEGMotionNet(\n",
    "    in_chans_eeg=len(EEG_CHANNELS),\n",
    "    in_chans_motion=len(MOTION_CHANNELS),\n",
    "    input_window_samples=window_samples,\n",
    "    n_classes=2\n",
    ")"
   ]
  },
  {
   "cell_type": "code",
   "execution_count": 484,
   "metadata": {},
   "outputs": [
    {
     "name": "stdout",
     "output_type": "stream",
     "text": [
      "Using device: cpu\n"
     ]
    }
   ],
   "source": [
    "device = torch.device('cuda' if torch.cuda.is_available() else 'cpu')\n",
    "print(f\"Using device: {device}\")\n",
    "model = model.to(device)\n",
    "X_train_eeg = X_train_eeg.to(device)\n",
    "X_train_motion = X_train_motion.to(device)\n",
    "y_train = y_train.to(device)"
   ]
  },
  {
   "cell_type": "code",
   "execution_count": 485,
   "metadata": {},
   "outputs": [],
   "source": [
    "dataset = TensorDataset(X_train_eeg, X_train_motion, y_train)\n",
    "dataloader = DataLoader(dataset, batch_size=64, shuffle=True)\n",
    "\n",
    "val_dataset = TensorDataset(X_val_eeg, X_val_motion, y_val)\n",
    "val_loader = DataLoader(val_dataset, batch_size=64, shuffle=False)"
   ]
  },
  {
   "cell_type": "code",
   "execution_count": 486,
   "metadata": {},
   "outputs": [
    {
     "name": "stdout",
     "output_type": "stream",
     "text": [
      "Parameters to train: 2962\n"
     ]
    }
   ],
   "source": [
    "criterion = nn.CrossEntropyLoss()\n",
    "optimizer = optim.AdamW(model.parameters(), lr=0.01, weight_decay=1e-3)\n",
    "print(f\"Parameters to train: {sum(p.numel() for p in model.parameters())}\")"
   ]
  },
  {
   "cell_type": "code",
   "execution_count": 488,
   "metadata": {},
   "outputs": [],
   "source": [
    "def train_model(model, dataloader, val_loader, criterion, optimizer, num_epochs=30):\n",
    "    for epoch in range(num_epochs):\n",
    "        model.train()\n",
    "        running_loss = 0.0\n",
    "\n",
    "        for x_eeg, x_motion, labels in dataloader:\n",
    "            optimizer.zero_grad()\n",
    "            outputs = model(x_eeg, x_motion)\n",
    "            loss = criterion(outputs, labels)\n",
    "            loss.backward()\n",
    "            optimizer.step()\n",
    "            running_loss += loss.item()\n",
    "\n",
    "        avg_train_loss = running_loss / len(dataloader)\n",
    "\n",
    "        model.eval()\n",
    "        val_loss = 0.0\n",
    "        val_preds, val_true = [], []\n",
    "\n",
    "        with torch.no_grad():\n",
    "            for x_eeg_val, x_motion_val, labels_val in val_loader:\n",
    "                val_outputs = model(x_eeg_val, x_motion_val)\n",
    "                loss = criterion(val_outputs, labels_val)\n",
    "                val_loss += loss.item()\n",
    "\n",
    "                preds = torch.argmax(val_outputs, dim=1)\n",
    "                val_preds.extend(preds.cpu().numpy())\n",
    "                val_true.extend(labels_val.cpu().numpy())\n",
    "\n",
    "        avg_val_loss = val_loss / len(val_loader)\n",
    "        val_acc = accuracy_score(val_true, val_preds)\n",
    "        val_f1 = f1_score(val_true, val_preds)\n",
    "        print(f\"Epoch {epoch+1:02}/{num_epochs} | Train Loss: {avg_train_loss:.4f} | Val Loss: {avg_val_loss:.4f} | Val Acc: {val_acc:.2f} | Val F1: {val_f1:.2f}\")\n",
    "\n",
    "    return model\n"
   ]
  },
  {
   "cell_type": "code",
   "execution_count": 489,
   "metadata": {},
   "outputs": [
    {
     "name": "stdout",
     "output_type": "stream",
     "text": [
      "Epoch 01/30 | Train Loss: 0.7612 | Val Loss: 0.7114 | Val Acc: 0.44 | Val F1: 0.61\n",
      "Epoch 02/30 | Train Loss: 0.7091 | Val Loss: 0.6894 | Val Acc: 0.46 | Val F1: 0.47\n",
      "Epoch 03/30 | Train Loss: 0.6881 | Val Loss: 0.7115 | Val Acc: 0.52 | Val F1: 0.61\n",
      "Epoch 04/30 | Train Loss: 0.6823 | Val Loss: 0.6817 | Val Acc: 0.54 | Val F1: 0.47\n",
      "Epoch 05/30 | Train Loss: 0.6855 | Val Loss: 0.6666 | Val Acc: 0.56 | Val F1: 0.52\n",
      "Epoch 06/30 | Train Loss: 0.6599 | Val Loss: 0.6766 | Val Acc: 0.64 | Val F1: 0.50\n",
      "Epoch 07/30 | Train Loss: 0.6645 | Val Loss: 0.6906 | Val Acc: 0.58 | Val F1: 0.55\n",
      "Epoch 08/30 | Train Loss: 0.6682 | Val Loss: 0.6880 | Val Acc: 0.58 | Val F1: 0.36\n",
      "Epoch 09/30 | Train Loss: 0.6621 | Val Loss: 0.7199 | Val Acc: 0.48 | Val F1: 0.41\n",
      "Epoch 10/30 | Train Loss: 0.6543 | Val Loss: 0.7733 | Val Acc: 0.52 | Val F1: 0.45\n",
      "Epoch 11/30 | Train Loss: 0.6611 | Val Loss: 0.7101 | Val Acc: 0.56 | Val F1: 0.48\n",
      "Epoch 12/30 | Train Loss: 0.6423 | Val Loss: 0.7111 | Val Acc: 0.48 | Val F1: 0.48\n",
      "Epoch 13/30 | Train Loss: 0.6423 | Val Loss: 0.7306 | Val Acc: 0.44 | Val F1: 0.44\n",
      "Epoch 14/30 | Train Loss: 0.6318 | Val Loss: 0.7272 | Val Acc: 0.52 | Val F1: 0.52\n",
      "Epoch 15/30 | Train Loss: 0.6357 | Val Loss: 0.7208 | Val Acc: 0.52 | Val F1: 0.54\n",
      "Epoch 16/30 | Train Loss: 0.6381 | Val Loss: 0.7798 | Val Acc: 0.40 | Val F1: 0.50\n",
      "Epoch 17/30 | Train Loss: 0.6368 | Val Loss: 0.7339 | Val Acc: 0.58 | Val F1: 0.51\n",
      "Epoch 18/30 | Train Loss: 0.6436 | Val Loss: 0.7134 | Val Acc: 0.48 | Val F1: 0.43\n",
      "Epoch 19/30 | Train Loss: 0.6327 | Val Loss: 0.7197 | Val Acc: 0.52 | Val F1: 0.40\n",
      "Epoch 20/30 | Train Loss: 0.6308 | Val Loss: 0.7174 | Val Acc: 0.56 | Val F1: 0.54\n",
      "Epoch 21/30 | Train Loss: 0.6294 | Val Loss: 0.7325 | Val Acc: 0.54 | Val F1: 0.57\n",
      "Epoch 22/30 | Train Loss: 0.6413 | Val Loss: 0.7181 | Val Acc: 0.52 | Val F1: 0.29\n",
      "Epoch 23/30 | Train Loss: 0.6300 | Val Loss: 0.7121 | Val Acc: 0.50 | Val F1: 0.42\n",
      "Epoch 24/30 | Train Loss: 0.6331 | Val Loss: 0.7551 | Val Acc: 0.48 | Val F1: 0.41\n",
      "Epoch 25/30 | Train Loss: 0.6200 | Val Loss: 0.7304 | Val Acc: 0.50 | Val F1: 0.36\n",
      "Epoch 26/30 | Train Loss: 0.6225 | Val Loss: 0.7211 | Val Acc: 0.50 | Val F1: 0.39\n",
      "Epoch 27/30 | Train Loss: 0.6262 | Val Loss: 0.7279 | Val Acc: 0.50 | Val F1: 0.49\n",
      "Epoch 28/30 | Train Loss: 0.6271 | Val Loss: 0.7850 | Val Acc: 0.44 | Val F1: 0.50\n",
      "Epoch 29/30 | Train Loss: 0.6313 | Val Loss: 0.7225 | Val Acc: 0.46 | Val F1: 0.45\n",
      "Epoch 30/30 | Train Loss: 0.6263 | Val Loss: 0.7245 | Val Acc: 0.52 | Val F1: 0.43\n"
     ]
    }
   ],
   "source": [
    "best_model = train_model(model, dataloader, val_loader, criterion, optimizer)"
   ]
  },
  {
   "cell_type": "code",
   "execution_count": 501,
   "metadata": {},
   "outputs": [
    {
     "name": "stdout",
     "output_type": "stream",
     "text": [
      "Model trained and saved as 'eegnet_trained.pth'\n"
     ]
    }
   ],
   "source": [
    "torch.save(best_model.state_dict(), os.path.join(\"models\", 'eegnet_trained.pth'))\n",
    "print(\"Model trained and saved as 'eegnet_trained.pth'\")"
   ]
  },
  {
   "cell_type": "code",
   "execution_count": 502,
   "metadata": {},
   "outputs": [
    {
     "name": "stderr",
     "output_type": "stream",
     "text": [
      "Preprocessing Trials:   0%|          | 0/50 [00:00<?, ?it/s]"
     ]
    },
    {
     "name": "stdout",
     "output_type": "stream",
     "text": [
      "Creating RawArray with float64 data, n_channels=8, n_times=2250\n",
      "    Range : 0 ... 2249 =      0.000 ...     8.996 secs\n",
      "Ready.\n",
      "Applying ICA to Raw instance\n",
      "    Transforming to ICA space (8 components)\n",
      "    Zeroing out 2 ICA components\n",
      "    Projecting back using 8 PCA components\n"
     ]
    },
    {
     "name": "stderr",
     "output_type": "stream",
     "text": [
      "Preprocessing Trials:   2%|▏         | 1/50 [00:00<00:08,  5.94it/s]"
     ]
    },
    {
     "name": "stdout",
     "output_type": "stream",
     "text": [
      "Creating RawArray with float64 data, n_channels=8, n_times=2250\n",
      "    Range : 0 ... 2249 =      0.000 ...     8.996 secs\n",
      "Ready.\n",
      "Applying ICA to Raw instance\n",
      "    Transforming to ICA space (8 components)\n",
      "    Zeroing out 2 ICA components\n",
      "    Projecting back using 8 PCA components\n"
     ]
    },
    {
     "name": "stderr",
     "output_type": "stream",
     "text": [
      "Preprocessing Trials:   4%|▍         | 2/50 [00:00<00:07,  6.31it/s]"
     ]
    },
    {
     "name": "stdout",
     "output_type": "stream",
     "text": [
      "Creating RawArray with float64 data, n_channels=8, n_times=2250\n",
      "    Range : 0 ... 2249 =      0.000 ...     8.996 secs\n",
      "Ready.\n",
      "Applying ICA to Raw instance\n",
      "    Transforming to ICA space (8 components)\n",
      "    Zeroing out 2 ICA components\n",
      "    Projecting back using 8 PCA components\n",
      "Creating RawArray with float64 data, n_channels=8, n_times=2250\n",
      "    Range : 0 ... 2249 =      0.000 ...     8.996 secs\n",
      "Ready.\n",
      "Applying ICA to Raw instance\n",
      "    Transforming to ICA space (8 components)\n",
      "    Zeroing out 2 ICA components\n",
      "    Projecting back using 8 PCA components\n"
     ]
    },
    {
     "name": "stderr",
     "output_type": "stream",
     "text": [
      "Preprocessing Trials:   8%|▊         | 4/50 [00:00<00:05,  8.47it/s]"
     ]
    },
    {
     "name": "stdout",
     "output_type": "stream",
     "text": [
      "Creating RawArray with float64 data, n_channels=8, n_times=2250\n",
      "    Range : 0 ... 2249 =      0.000 ...     8.996 secs\n",
      "Ready.\n",
      "Applying ICA to Raw instance\n",
      "    Transforming to ICA space (8 components)\n",
      "    Zeroing out 2 ICA components\n",
      "    Projecting back using 8 PCA components\n"
     ]
    },
    {
     "name": "stderr",
     "output_type": "stream",
     "text": [
      "Preprocessing Trials:  10%|█         | 5/50 [00:00<00:05,  8.88it/s]"
     ]
    },
    {
     "name": "stdout",
     "output_type": "stream",
     "text": [
      "Creating RawArray with float64 data, n_channels=8, n_times=2250\n",
      "    Range : 0 ... 2249 =      0.000 ...     8.996 secs\n",
      "Ready.\n",
      "Applying ICA to Raw instance\n",
      "    Transforming to ICA space (8 components)\n",
      "    Zeroing out 2 ICA components\n",
      "    Projecting back using 8 PCA components\n",
      "Creating RawArray with float64 data, n_channels=8, n_times=2250\n",
      "    Range : 0 ... 2249 =      0.000 ...     8.996 secs\n",
      "Ready.\n",
      "Applying ICA to Raw instance\n",
      "    Transforming to ICA space (8 components)\n",
      "    Zeroing out 2 ICA components\n",
      "    Projecting back using 8 PCA components\n"
     ]
    },
    {
     "name": "stderr",
     "output_type": "stream",
     "text": [
      "Preprocessing Trials:  14%|█▍        | 7/50 [00:00<00:04,  9.71it/s]"
     ]
    },
    {
     "name": "stdout",
     "output_type": "stream",
     "text": [
      "Creating RawArray with float64 data, n_channels=8, n_times=2250\n",
      "    Range : 0 ... 2249 =      0.000 ...     8.996 secs\n",
      "Ready.\n",
      "Applying ICA to Raw instance\n",
      "    Transforming to ICA space (8 components)\n",
      "    Zeroing out 2 ICA components\n",
      "    Projecting back using 8 PCA components\n"
     ]
    },
    {
     "name": "stderr",
     "output_type": "stream",
     "text": [
      "Preprocessing Trials:  16%|█▌        | 8/50 [00:00<00:04,  9.78it/s]"
     ]
    },
    {
     "name": "stdout",
     "output_type": "stream",
     "text": [
      "Creating RawArray with float64 data, n_channels=8, n_times=2250\n",
      "    Range : 0 ... 2249 =      0.000 ...     8.996 secs\n",
      "Ready.\n",
      "Applying ICA to Raw instance\n",
      "    Transforming to ICA space (8 components)\n",
      "    Zeroing out 2 ICA components\n",
      "    Projecting back using 8 PCA components\n",
      "Creating RawArray with float64 data, n_channels=8, n_times=2250\n",
      "    Range : 0 ... 2249 =      0.000 ...     8.996 secs\n",
      "Ready.\n",
      "Applying ICA to Raw instance\n",
      "    Transforming to ICA space (8 components)\n",
      "    Zeroing out 2 ICA components\n",
      "    Projecting back using 8 PCA components\n"
     ]
    },
    {
     "name": "stderr",
     "output_type": "stream",
     "text": [
      "Preprocessing Trials:  20%|██        | 10/50 [00:01<00:03, 10.20it/s]"
     ]
    },
    {
     "name": "stdout",
     "output_type": "stream",
     "text": [
      "Creating RawArray with float64 data, n_channels=8, n_times=2250\n",
      "    Range : 0 ... 2249 =      0.000 ...     8.996 secs\n",
      "Ready.\n",
      "Applying ICA to Raw instance\n",
      "    Transforming to ICA space (8 components)\n",
      "    Zeroing out 2 ICA components\n",
      "    Projecting back using 8 PCA components\n",
      "Creating RawArray with float64 data, n_channels=8, n_times=2250\n",
      "    Range : 0 ... 2249 =      0.000 ...     8.996 secs\n",
      "Ready.\n",
      "Applying ICA to Raw instance\n",
      "    Transforming to ICA space (8 components)\n",
      "    Zeroing out 2 ICA components\n",
      "    Projecting back using 8 PCA components\n"
     ]
    },
    {
     "name": "stderr",
     "output_type": "stream",
     "text": [
      "Preprocessing Trials:  24%|██▍       | 12/50 [00:01<00:03,  9.71it/s]"
     ]
    },
    {
     "name": "stdout",
     "output_type": "stream",
     "text": [
      "Creating RawArray with float64 data, n_channels=8, n_times=2250\n",
      "    Range : 0 ... 2249 =      0.000 ...     8.996 secs\n",
      "Ready.\n",
      "Applying ICA to Raw instance\n",
      "    Transforming to ICA space (8 components)\n",
      "    Zeroing out 2 ICA components\n",
      "    Projecting back using 8 PCA components\n"
     ]
    },
    {
     "name": "stderr",
     "output_type": "stream",
     "text": [
      "Preprocessing Trials:  26%|██▌       | 13/50 [00:01<00:03,  9.76it/s]"
     ]
    },
    {
     "name": "stdout",
     "output_type": "stream",
     "text": [
      "Creating RawArray with float64 data, n_channels=8, n_times=2250\n",
      "    Range : 0 ... 2249 =      0.000 ...     8.996 secs\n",
      "Ready.\n",
      "Applying ICA to Raw instance\n",
      "    Transforming to ICA space (8 components)\n",
      "    Zeroing out 2 ICA components\n",
      "    Projecting back using 8 PCA components\n",
      "Creating RawArray with float64 data, n_channels=8, n_times=2250\n",
      "    Range : 0 ... 2249 =      0.000 ...     8.996 secs\n",
      "Ready.\n",
      "Applying ICA to Raw instance\n",
      "    Transforming to ICA space (8 components)\n",
      "    Zeroing out 2 ICA components\n",
      "    Projecting back using 8 PCA components\n"
     ]
    },
    {
     "name": "stderr",
     "output_type": "stream",
     "text": [
      "Preprocessing Trials:  30%|███       | 15/50 [00:01<00:03,  9.54it/s]"
     ]
    },
    {
     "name": "stdout",
     "output_type": "stream",
     "text": [
      "Creating RawArray with float64 data, n_channels=8, n_times=2250\n",
      "    Range : 0 ... 2249 =      0.000 ...     8.996 secs\n",
      "Ready.\n",
      "Applying ICA to Raw instance\n",
      "    Transforming to ICA space (8 components)\n",
      "    Zeroing out 2 ICA components\n",
      "    Projecting back using 8 PCA components\n"
     ]
    },
    {
     "name": "stderr",
     "output_type": "stream",
     "text": [
      "Preprocessing Trials:  32%|███▏      | 16/50 [00:01<00:03,  9.42it/s]"
     ]
    },
    {
     "name": "stdout",
     "output_type": "stream",
     "text": [
      "Creating RawArray with float64 data, n_channels=8, n_times=2250\n",
      "    Range : 0 ... 2249 =      0.000 ...     8.996 secs\n",
      "Ready.\n",
      "Applying ICA to Raw instance\n",
      "    Transforming to ICA space (8 components)\n",
      "    Zeroing out 2 ICA components\n",
      "    Projecting back using 8 PCA components\n",
      "Creating RawArray with float64 data, n_channels=8, n_times=2250\n",
      "    Range : 0 ... 2249 =      0.000 ...     8.996 secs\n",
      "Ready.\n",
      "Applying ICA to Raw instance\n",
      "    Transforming to ICA space (8 components)\n",
      "    Zeroing out 2 ICA components\n",
      "    Projecting back using 8 PCA components\n"
     ]
    },
    {
     "name": "stderr",
     "output_type": "stream",
     "text": [
      "Preprocessing Trials:  36%|███▌      | 18/50 [00:01<00:03,  9.55it/s]"
     ]
    },
    {
     "name": "stdout",
     "output_type": "stream",
     "text": [
      "Creating RawArray with float64 data, n_channels=8, n_times=2250\n",
      "    Range : 0 ... 2249 =      0.000 ...     8.996 secs\n",
      "Ready.\n",
      "Applying ICA to Raw instance\n",
      "    Transforming to ICA space (8 components)\n",
      "    Zeroing out 2 ICA components\n",
      "    Projecting back using 8 PCA components\n"
     ]
    },
    {
     "name": "stderr",
     "output_type": "stream",
     "text": [
      "Preprocessing Trials:  38%|███▊      | 19/50 [00:02<00:03,  9.05it/s]"
     ]
    },
    {
     "name": "stdout",
     "output_type": "stream",
     "text": [
      "Creating RawArray with float64 data, n_channels=8, n_times=2250\n",
      "    Range : 0 ... 2249 =      0.000 ...     8.996 secs\n",
      "Ready.\n",
      "Applying ICA to Raw instance\n",
      "    Transforming to ICA space (8 components)\n",
      "    Zeroing out 2 ICA components\n",
      "    Projecting back using 8 PCA components\n"
     ]
    },
    {
     "name": "stderr",
     "output_type": "stream",
     "text": [
      "Preprocessing Trials:  40%|████      | 20/50 [00:02<00:03,  8.92it/s]"
     ]
    },
    {
     "name": "stdout",
     "output_type": "stream",
     "text": [
      "Creating RawArray with float64 data, n_channels=8, n_times=2250\n",
      "    Range : 0 ... 2249 =      0.000 ...     8.996 secs\n",
      "Ready.\n",
      "Applying ICA to Raw instance\n",
      "    Transforming to ICA space (8 components)\n",
      "    Zeroing out 2 ICA components\n",
      "    Projecting back using 8 PCA components\n"
     ]
    },
    {
     "name": "stderr",
     "output_type": "stream",
     "text": [
      "Preprocessing Trials:  42%|████▏     | 21/50 [00:02<00:03,  8.73it/s]"
     ]
    },
    {
     "name": "stdout",
     "output_type": "stream",
     "text": [
      "Creating RawArray with float64 data, n_channels=8, n_times=2250\n",
      "    Range : 0 ... 2249 =      0.000 ...     8.996 secs\n",
      "Ready.\n",
      "Applying ICA to Raw instance\n",
      "    Transforming to ICA space (8 components)\n",
      "    Zeroing out 2 ICA components\n",
      "    Projecting back using 8 PCA components\n"
     ]
    },
    {
     "name": "stderr",
     "output_type": "stream",
     "text": [
      "Preprocessing Trials:  44%|████▍     | 22/50 [00:02<00:03,  8.80it/s]"
     ]
    },
    {
     "name": "stdout",
     "output_type": "stream",
     "text": [
      "Creating RawArray with float64 data, n_channels=8, n_times=2250\n",
      "    Range : 0 ... 2249 =      0.000 ...     8.996 secs\n",
      "Ready.\n",
      "Applying ICA to Raw instance\n",
      "    Transforming to ICA space (8 components)\n",
      "    Zeroing out 2 ICA components\n",
      "    Projecting back using 8 PCA components\n"
     ]
    },
    {
     "name": "stderr",
     "output_type": "stream",
     "text": [
      "Preprocessing Trials:  46%|████▌     | 23/50 [00:02<00:03,  8.64it/s]"
     ]
    },
    {
     "name": "stdout",
     "output_type": "stream",
     "text": [
      "Creating RawArray with float64 data, n_channels=8, n_times=2250\n",
      "    Range : 0 ... 2249 =      0.000 ...     8.996 secs\n",
      "Ready.\n",
      "Applying ICA to Raw instance\n",
      "    Transforming to ICA space (8 components)\n",
      "    Zeroing out 2 ICA components\n",
      "    Projecting back using 8 PCA components\n"
     ]
    },
    {
     "name": "stderr",
     "output_type": "stream",
     "text": [
      "Preprocessing Trials:  48%|████▊     | 24/50 [00:02<00:02,  8.81it/s]"
     ]
    },
    {
     "name": "stdout",
     "output_type": "stream",
     "text": [
      "Creating RawArray with float64 data, n_channels=8, n_times=2250\n",
      "    Range : 0 ... 2249 =      0.000 ...     8.996 secs\n",
      "Ready.\n",
      "Applying ICA to Raw instance\n",
      "    Transforming to ICA space (8 components)\n",
      "    Zeroing out 2 ICA components\n",
      "    Projecting back using 8 PCA components\n"
     ]
    },
    {
     "name": "stderr",
     "output_type": "stream",
     "text": [
      "Preprocessing Trials:  50%|█████     | 25/50 [00:02<00:02,  9.01it/s]"
     ]
    },
    {
     "name": "stdout",
     "output_type": "stream",
     "text": [
      "Creating RawArray with float64 data, n_channels=8, n_times=2250\n",
      "    Range : 0 ... 2249 =      0.000 ...     8.996 secs\n",
      "Ready.\n",
      "Applying ICA to Raw instance\n",
      "    Transforming to ICA space (8 components)\n",
      "    Zeroing out 2 ICA components\n",
      "    Projecting back using 8 PCA components\n",
      "Creating RawArray with float64 data, n_channels=8, n_times=2250\n",
      "    Range : 0 ... 2249 =      0.000 ...     8.996 secs\n",
      "Ready.\n",
      "Applying ICA to Raw instance\n",
      "    Transforming to ICA space (8 components)\n",
      "    Zeroing out 2 ICA components\n",
      "    Projecting back using 8 PCA components\n"
     ]
    },
    {
     "name": "stderr",
     "output_type": "stream",
     "text": [
      "Preprocessing Trials:  54%|█████▍    | 27/50 [00:02<00:02,  9.55it/s]"
     ]
    },
    {
     "name": "stdout",
     "output_type": "stream",
     "text": [
      "Creating RawArray with float64 data, n_channels=8, n_times=2250\n",
      "    Range : 0 ... 2249 =      0.000 ...     8.996 secs\n",
      "Ready.\n",
      "Applying ICA to Raw instance\n",
      "    Transforming to ICA space (8 components)\n",
      "    Zeroing out 2 ICA components\n",
      "    Projecting back using 8 PCA components\n"
     ]
    },
    {
     "name": "stderr",
     "output_type": "stream",
     "text": [
      "Preprocessing Trials:  56%|█████▌    | 28/50 [00:03<00:02,  9.06it/s]"
     ]
    },
    {
     "name": "stdout",
     "output_type": "stream",
     "text": [
      "Creating RawArray with float64 data, n_channels=8, n_times=2250\n",
      "    Range : 0 ... 2249 =      0.000 ...     8.996 secs\n",
      "Ready.\n",
      "Applying ICA to Raw instance\n",
      "    Transforming to ICA space (8 components)\n",
      "    Zeroing out 2 ICA components\n",
      "    Projecting back using 8 PCA components\n"
     ]
    },
    {
     "name": "stderr",
     "output_type": "stream",
     "text": [
      "Preprocessing Trials:  58%|█████▊    | 29/50 [00:03<00:02,  8.79it/s]"
     ]
    },
    {
     "name": "stdout",
     "output_type": "stream",
     "text": [
      "Creating RawArray with float64 data, n_channels=8, n_times=2250\n",
      "    Range : 0 ... 2249 =      0.000 ...     8.996 secs\n",
      "Ready.\n",
      "Applying ICA to Raw instance\n",
      "    Transforming to ICA space (8 components)\n",
      "    Zeroing out 2 ICA components\n",
      "    Projecting back using 8 PCA components\n"
     ]
    },
    {
     "name": "stderr",
     "output_type": "stream",
     "text": [
      "Preprocessing Trials:  60%|██████    | 30/50 [00:03<00:02,  8.40it/s]"
     ]
    },
    {
     "name": "stdout",
     "output_type": "stream",
     "text": [
      "Creating RawArray with float64 data, n_channels=8, n_times=2250\n",
      "    Range : 0 ... 2249 =      0.000 ...     8.996 secs\n",
      "Ready.\n",
      "Applying ICA to Raw instance\n",
      "    Transforming to ICA space (8 components)\n",
      "    Zeroing out 2 ICA components\n",
      "    Projecting back using 8 PCA components\n"
     ]
    },
    {
     "name": "stderr",
     "output_type": "stream",
     "text": [
      "Preprocessing Trials:  62%|██████▏   | 31/50 [00:03<00:02,  8.57it/s]"
     ]
    },
    {
     "name": "stdout",
     "output_type": "stream",
     "text": [
      "Creating RawArray with float64 data, n_channels=8, n_times=2250\n",
      "    Range : 0 ... 2249 =      0.000 ...     8.996 secs\n",
      "Ready.\n",
      "Applying ICA to Raw instance\n",
      "    Transforming to ICA space (8 components)\n",
      "    Zeroing out 2 ICA components\n",
      "    Projecting back using 8 PCA components\n"
     ]
    },
    {
     "name": "stderr",
     "output_type": "stream",
     "text": [
      "Preprocessing Trials:  64%|██████▍   | 32/50 [00:03<00:02,  6.73it/s]"
     ]
    },
    {
     "name": "stdout",
     "output_type": "stream",
     "text": [
      "Creating RawArray with float64 data, n_channels=8, n_times=2250\n",
      "    Range : 0 ... 2249 =      0.000 ...     8.996 secs\n",
      "Ready.\n",
      "Applying ICA to Raw instance\n",
      "    Transforming to ICA space (8 components)\n",
      "    Zeroing out 2 ICA components\n",
      "    Projecting back using 8 PCA components\n"
     ]
    },
    {
     "name": "stderr",
     "output_type": "stream",
     "text": [
      "Preprocessing Trials:  66%|██████▌   | 33/50 [00:03<00:02,  6.85it/s]"
     ]
    },
    {
     "name": "stdout",
     "output_type": "stream",
     "text": [
      "Creating RawArray with float64 data, n_channels=8, n_times=2250\n",
      "    Range : 0 ... 2249 =      0.000 ...     8.996 secs\n",
      "Ready.\n",
      "Applying ICA to Raw instance\n",
      "    Transforming to ICA space (8 components)\n",
      "    Zeroing out 2 ICA components\n",
      "    Projecting back using 8 PCA components\n"
     ]
    },
    {
     "name": "stderr",
     "output_type": "stream",
     "text": [
      "Preprocessing Trials:  68%|██████▊   | 34/50 [00:03<00:02,  7.20it/s]"
     ]
    },
    {
     "name": "stdout",
     "output_type": "stream",
     "text": [
      "Creating RawArray with float64 data, n_channels=8, n_times=2250\n",
      "    Range : 0 ... 2249 =      0.000 ...     8.996 secs\n",
      "Ready.\n",
      "Applying ICA to Raw instance\n",
      "    Transforming to ICA space (8 components)\n",
      "    Zeroing out 2 ICA components\n",
      "    Projecting back using 8 PCA components\n"
     ]
    },
    {
     "name": "stderr",
     "output_type": "stream",
     "text": [
      "Preprocessing Trials:  70%|███████   | 35/50 [00:04<00:01,  7.57it/s]"
     ]
    },
    {
     "name": "stdout",
     "output_type": "stream",
     "text": [
      "Creating RawArray with float64 data, n_channels=8, n_times=2250\n",
      "    Range : 0 ... 2249 =      0.000 ...     8.996 secs\n",
      "Ready.\n",
      "Applying ICA to Raw instance\n",
      "    Transforming to ICA space (8 components)\n",
      "    Zeroing out 2 ICA components\n",
      "    Projecting back using 8 PCA components\n"
     ]
    },
    {
     "name": "stderr",
     "output_type": "stream",
     "text": [
      "Preprocessing Trials:  72%|███████▏  | 36/50 [00:04<00:01,  8.13it/s]"
     ]
    },
    {
     "name": "stdout",
     "output_type": "stream",
     "text": [
      "Creating RawArray with float64 data, n_channels=8, n_times=2250\n",
      "    Range : 0 ... 2249 =      0.000 ...     8.996 secs\n",
      "Ready.\n",
      "Applying ICA to Raw instance\n",
      "    Transforming to ICA space (8 components)\n",
      "    Zeroing out 2 ICA components\n",
      "    Projecting back using 8 PCA components\n"
     ]
    },
    {
     "name": "stderr",
     "output_type": "stream",
     "text": [
      "Preprocessing Trials:  74%|███████▍  | 37/50 [00:04<00:01,  8.54it/s]"
     ]
    },
    {
     "name": "stdout",
     "output_type": "stream",
     "text": [
      "Creating RawArray with float64 data, n_channels=8, n_times=2250\n",
      "    Range : 0 ... 2249 =      0.000 ...     8.996 secs\n",
      "Ready.\n",
      "Applying ICA to Raw instance\n",
      "    Transforming to ICA space (8 components)\n",
      "    Zeroing out 2 ICA components\n",
      "    Projecting back using 8 PCA components\n"
     ]
    },
    {
     "name": "stderr",
     "output_type": "stream",
     "text": [
      "Preprocessing Trials:  76%|███████▌  | 38/50 [00:04<00:01,  8.59it/s]"
     ]
    },
    {
     "name": "stdout",
     "output_type": "stream",
     "text": [
      "Creating RawArray with float64 data, n_channels=8, n_times=2250\n",
      "    Range : 0 ... 2249 =      0.000 ...     8.996 secs\n",
      "Ready.\n",
      "Applying ICA to Raw instance\n",
      "    Transforming to ICA space (8 components)\n",
      "    Zeroing out 2 ICA components\n",
      "    Projecting back using 8 PCA components\n"
     ]
    },
    {
     "name": "stderr",
     "output_type": "stream",
     "text": [
      "Preprocessing Trials:  78%|███████▊  | 39/50 [00:04<00:01,  8.66it/s]"
     ]
    },
    {
     "name": "stdout",
     "output_type": "stream",
     "text": [
      "Creating RawArray with float64 data, n_channels=8, n_times=2250\n",
      "    Range : 0 ... 2249 =      0.000 ...     8.996 secs\n",
      "Ready.\n",
      "Applying ICA to Raw instance\n",
      "    Transforming to ICA space (8 components)\n",
      "    Zeroing out 2 ICA components\n",
      "    Projecting back using 8 PCA components\n",
      "Creating RawArray with float64 data, n_channels=8, n_times=2250\n",
      "    Range : 0 ... 2249 =      0.000 ...     8.996 secs\n",
      "Ready.\n",
      "Applying ICA to Raw instance\n",
      "    Transforming to ICA space (8 components)\n",
      "    Zeroing out 2 ICA components\n",
      "    Projecting back using 8 PCA components\n"
     ]
    },
    {
     "name": "stderr",
     "output_type": "stream",
     "text": [
      "Preprocessing Trials:  82%|████████▏ | 41/50 [00:04<00:01,  8.94it/s]"
     ]
    },
    {
     "name": "stdout",
     "output_type": "stream",
     "text": [
      "Creating RawArray with float64 data, n_channels=8, n_times=2250\n",
      "    Range : 0 ... 2249 =      0.000 ...     8.996 secs\n",
      "Ready.\n",
      "Applying ICA to Raw instance\n",
      "    Transforming to ICA space (8 components)\n",
      "    Zeroing out 2 ICA components\n",
      "    Projecting back using 8 PCA components\n"
     ]
    },
    {
     "name": "stderr",
     "output_type": "stream",
     "text": [
      "Preprocessing Trials:  84%|████████▍ | 42/50 [00:04<00:00,  8.98it/s]"
     ]
    },
    {
     "name": "stdout",
     "output_type": "stream",
     "text": [
      "Creating RawArray with float64 data, n_channels=8, n_times=2250\n",
      "    Range : 0 ... 2249 =      0.000 ...     8.996 secs\n",
      "Ready.\n",
      "Applying ICA to Raw instance\n",
      "    Transforming to ICA space (8 components)\n",
      "    Zeroing out 2 ICA components\n",
      "    Projecting back using 8 PCA components\n"
     ]
    },
    {
     "name": "stderr",
     "output_type": "stream",
     "text": [
      "Preprocessing Trials:  86%|████████▌ | 43/50 [00:04<00:00,  8.87it/s]"
     ]
    },
    {
     "name": "stdout",
     "output_type": "stream",
     "text": [
      "Creating RawArray with float64 data, n_channels=8, n_times=2250\n",
      "    Range : 0 ... 2249 =      0.000 ...     8.996 secs\n",
      "Ready.\n",
      "Applying ICA to Raw instance\n",
      "    Transforming to ICA space (8 components)\n",
      "    Zeroing out 2 ICA components\n",
      "    Projecting back using 8 PCA components\n"
     ]
    },
    {
     "name": "stderr",
     "output_type": "stream",
     "text": [
      "Preprocessing Trials:  88%|████████▊ | 44/50 [00:05<00:00,  8.94it/s]"
     ]
    },
    {
     "name": "stdout",
     "output_type": "stream",
     "text": [
      "Creating RawArray with float64 data, n_channels=8, n_times=2250\n",
      "    Range : 0 ... 2249 =      0.000 ...     8.996 secs\n",
      "Ready.\n",
      "Applying ICA to Raw instance\n",
      "    Transforming to ICA space (8 components)\n",
      "    Zeroing out 2 ICA components\n",
      "    Projecting back using 8 PCA components\n",
      "Creating RawArray with float64 data, n_channels=8, n_times=2250\n",
      "    Range : 0 ... 2249 =      0.000 ...     8.996 secs\n",
      "Ready.\n",
      "Applying ICA to Raw instance\n",
      "    Transforming to ICA space (8 components)\n",
      "    Zeroing out 2 ICA components\n",
      "    Projecting back using 8 PCA components\n"
     ]
    },
    {
     "name": "stderr",
     "output_type": "stream",
     "text": [
      "Preprocessing Trials:  92%|█████████▏| 46/50 [00:05<00:00,  9.32it/s]"
     ]
    },
    {
     "name": "stdout",
     "output_type": "stream",
     "text": [
      "Creating RawArray with float64 data, n_channels=8, n_times=2250\n",
      "    Range : 0 ... 2249 =      0.000 ...     8.996 secs\n",
      "Ready.\n",
      "Applying ICA to Raw instance\n",
      "    Transforming to ICA space (8 components)\n",
      "    Zeroing out 2 ICA components\n",
      "    Projecting back using 8 PCA components\n"
     ]
    },
    {
     "name": "stderr",
     "output_type": "stream",
     "text": [
      "Preprocessing Trials:  94%|█████████▍| 47/50 [00:05<00:00,  9.15it/s]"
     ]
    },
    {
     "name": "stdout",
     "output_type": "stream",
     "text": [
      "Creating RawArray with float64 data, n_channels=8, n_times=2250\n",
      "    Range : 0 ... 2249 =      0.000 ...     8.996 secs\n",
      "Ready.\n",
      "Applying ICA to Raw instance\n",
      "    Transforming to ICA space (8 components)\n",
      "    Zeroing out 2 ICA components\n",
      "    Projecting back using 8 PCA components\n",
      "Creating RawArray with float64 data, n_channels=8, n_times=2250\n",
      "    Range : 0 ... 2249 =      0.000 ...     8.996 secs\n",
      "Ready.\n",
      "Applying ICA to Raw instance\n",
      "    Transforming to ICA space (8 components)\n",
      "    Zeroing out 2 ICA components\n",
      "    Projecting back using 8 PCA components\n"
     ]
    },
    {
     "name": "stderr",
     "output_type": "stream",
     "text": [
      "Preprocessing Trials:  98%|█████████▊| 49/50 [00:05<00:00,  9.32it/s]"
     ]
    },
    {
     "name": "stdout",
     "output_type": "stream",
     "text": [
      "Creating RawArray with float64 data, n_channels=8, n_times=2250\n",
      "    Range : 0 ... 2249 =      0.000 ...     8.996 secs\n",
      "Ready.\n",
      "Applying ICA to Raw instance\n",
      "    Transforming to ICA space (8 components)\n",
      "    Zeroing out 2 ICA components\n",
      "    Projecting back using 8 PCA components\n"
     ]
    },
    {
     "name": "stderr",
     "output_type": "stream",
     "text": [
      "Preprocessing Trials: 100%|██████████| 50/50 [00:05<00:00,  8.81it/s]\n"
     ]
    }
   ],
   "source": [
    "X_test_eeg, X_test_motion, _ = preprocess_data(test_df[:50], ica_model, test_data=True)"
   ]
  },
  {
   "cell_type": "code",
   "execution_count": 504,
   "metadata": {},
   "outputs": [
    {
     "data": {
      "text/plain": [
       "EEGMotionNet(\n",
       "  (spatial_dropout): Dropout1d(p=0.2, inplace=False)\n",
       "  (eeg_net): EEGNetv4(\n",
       "    (ensuredims): Ensure4d()\n",
       "    (dimshuffle): Rearrange('batch ch t 1 -> batch 1 ch t')\n",
       "    (conv_temporal): Conv2d(1, 8, kernel_size=(1, 64), stride=(1, 1), padding=(0, 32), bias=False)\n",
       "    (bnorm_temporal): BatchNorm2d(8, eps=0.001, momentum=0.01, affine=True, track_running_stats=True)\n",
       "    (conv_spatial): Conv2dWithConstraint(8, 16, kernel_size=(8, 1), stride=(1, 1), groups=8, bias=False)\n",
       "    (bnorm_1): BatchNorm2d(16, eps=0.001, momentum=0.01, affine=True, track_running_stats=True)\n",
       "    (elu_1): Expression(expression=elu) \n",
       "    (pool_1): AvgPool2d(kernel_size=(1, 4), stride=(1, 4), padding=0)\n",
       "    (drop_1): Dropout(p=0.25, inplace=False)\n",
       "    (conv_separable_depth): Conv2d(16, 16, kernel_size=(1, 16), stride=(1, 1), padding=(0, 8), groups=16, bias=False)\n",
       "    (conv_separable_point): Conv2d(16, 16, kernel_size=(1, 1), stride=(1, 1), bias=False)\n",
       "    (bnorm_2): BatchNorm2d(16, eps=0.001, momentum=0.01, affine=True, track_running_stats=True)\n",
       "    (elu_2): Expression(expression=elu) \n",
       "    (pool_2): AvgPool2d(kernel_size=(1, 8), stride=(1, 8), padding=0)\n",
       "    (drop_2): Dropout(p=0.25, inplace=False)\n",
       "    (final_layer): Sequential(\n",
       "      (conv_classifier): Conv2d(16, 2, kernel_size=(1, 54), stride=(1, 1))\n",
       "      (permute_back): Rearrange('batch x y z -> batch x z y')\n",
       "      (squeeze): Expression(expression=squeeze_final_output) \n",
       "    )\n",
       "  )\n",
       ")"
      ]
     },
     "execution_count": 504,
     "metadata": {},
     "output_type": "execute_result"
    }
   ],
   "source": [
    "saved_module = EEGMotionNet(\n",
    "    in_chans_eeg=len(EEG_CHANNELS),\n",
    "    in_chans_motion=len(MOTION_CHANNELS),\n",
    "    input_window_samples=window_samples,\n",
    "    n_classes=2\n",
    ")\n",
    "\n",
    "saved_module.load_state_dict(torch.load(os.path.join(\"models\", 'eegnet_trained.pth')))\n",
    "saved_module.eval()"
   ]
  },
  {
   "cell_type": "code",
   "execution_count": 505,
   "metadata": {},
   "outputs": [],
   "source": [
    "device = torch.device(\"cuda\" if torch.cuda.is_available() else \"cpu\")\n",
    "model.to(device)\n",
    "X_test_eeg = X_test_eeg.to(device)\n",
    "X_test_motion = X_test_motion.to(device)"
   ]
  },
  {
   "cell_type": "code",
   "execution_count": 506,
   "metadata": {},
   "outputs": [],
   "source": [
    "with torch.no_grad():\n",
    "    outputs = model(X_test_eeg, X_test_motion)\n",
    "    predictions = torch.argmax(outputs, dim=1)"
   ]
  },
  {
   "cell_type": "code",
   "execution_count": 507,
   "metadata": {},
   "outputs": [],
   "source": [
    "def save_predictions(y_pred: Tensor, test_df: pd.DataFrame, filename: str):\n",
    "    # map y_pred to left or right\n",
    "    preds = y_pred.cpu().numpy()\n",
    "    labels = np.where(preds == 0, \"Left\", \"Right\")\n",
    "\n",
    "    # create a dataframe with the predictions and the actual labels\n",
    "    predictions_df = pd.DataFrame({\n",
    "        \"label\": labels\n",
    "    })\n",
    "\n",
    "    predictions_df[\"id\"] = test_df[\"id\"]\n",
    "    predictions_df = predictions_df[[\"id\", \"label\"]]\n",
    "    predictions_df.to_csv(f'submissions/{filename}_submission.csv', index=False)"
   ]
  },
  {
   "cell_type": "code",
   "execution_count": 508,
   "metadata": {},
   "outputs": [],
   "source": [
    "save_predictions(predictions, test_df, \"eegnet\")"
   ]
  },
  {
   "cell_type": "code",
   "execution_count": 481,
   "metadata": {
    "trusted": true
   },
   "outputs": [],
   "source": [
    "\n",
    "# def svm_pipeline(X_train, y_train, X_test):\n",
    "#     clf_pipeline = Pipeline([\n",
    "#         ('scaler', StandardScaler()),\n",
    "#         ('classifier', SVC(kernel='rbf', C=1, gamma=0.01))\n",
    "#     ])\n",
    "\n",
    "#     clf_pipeline.fit(X_train, y_train)\n",
    "#     # param_grid = {\n",
    "#     #     'classifier__C': [0.1, 1, 10],\n",
    "#     #     'classifier__gamma': [0.01, 0.1, 1]\n",
    "#     # }\n",
    "\n",
    "#     # grid = GridSearchCV(clf_pipeline, param_grid, cv=5)\n",
    "#     # grid.fit(X_train, y_train)\n",
    "#     return clf_pipeline.predict(X_test)\n",
    "\n",
    "# def lda_pipeline(X_train, y_train, X_test):\n",
    "#     clf_pipeline = Pipeline([\n",
    "#         ('scaler', StandardScaler()),\n",
    "#         ('classifier', LDA())\n",
    "#     ])\n",
    "#     clf_pipeline.fit(X_train, y_train)\n",
    "#     return clf_pipeline.predict(X_test)\n",
    "\n",
    "# y_pred_svm = svm_pipeline(X_train_csp, y_train, X_val_csp)\n",
    "# y_pred_lda = lda_pipeline(X_train_csp, y_train, X_val_csp)"
   ]
  },
  {
   "cell_type": "code",
   "execution_count": 26,
   "metadata": {
    "trusted": true
   },
   "outputs": [],
   "source": [
    "# acc = accuracy_score(y_val, y_pred_svm)\n",
    "# f1 = f1_score(y_val, y_pred_svm)\n",
    "\n",
    "# print(\"Accuracy: \", acc)\n",
    "# print(\"F1: \", f1)"
   ]
  },
  {
   "cell_type": "code",
   "execution_count": 27,
   "metadata": {
    "trusted": true
   },
   "outputs": [],
   "source": [
    "# save_predictions(y_pred_lda, test_df, \"lda\")"
   ]
  },
  {
   "cell_type": "code",
   "execution_count": 28,
   "metadata": {
    "trusted": true
   },
   "outputs": [],
   "source": [
    "# save_predictions(y_pred_svm, test_df, \"svm\")"
   ]
  }
 ],
 "metadata": {
  "kaggle": {
   "accelerator": "none",
   "dataSources": [
    {
     "databundleVersionId": 12673416,
     "isSourceIdPinned": false,
     "sourceId": 98188,
     "sourceType": "competition"
    }
   ],
   "dockerImageVersionId": 31040,
   "isGpuEnabled": false,
   "isInternetEnabled": false,
   "language": "python",
   "sourceType": "notebook"
  },
  "kernelspec": {
   "display_name": "mtc-aic3-venv",
   "language": "python",
   "name": "python3"
  },
  "language_info": {
   "codemirror_mode": {
    "name": "ipython",
    "version": 3
   },
   "file_extension": ".py",
   "mimetype": "text/x-python",
   "name": "python",
   "nbconvert_exporter": "python",
   "pygments_lexer": "ipython3",
   "version": "3.12.10"
  }
 },
 "nbformat": 4,
 "nbformat_minor": 4
}
